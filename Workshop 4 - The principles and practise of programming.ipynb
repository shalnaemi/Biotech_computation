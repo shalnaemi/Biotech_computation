{
 "cells": [
  {
   "cell_type": "markdown",
   "id": "344fac3c",
   "metadata": {},
   "source": [
    "# Putting theory into practise\n",
    "Today is the culmination of the last 3/4 weeks of your programming journey. We will finish the course by putting into practise some of the principles of programming you have learnt to date.\n",
    "\n",
    "These include how to debug code, use version control, code testing and implement defensive programming.\n",
    "\n",
    "\n",
    "# Debugging\n",
    "\n",
    "You have been provided with a set of sequence data (on MyAberdeen) and some code with several functions defined and bit of example code to show how to use them.  You can copy and paste the function code into your jupyter notebook, then run the test code using the sequence data you have been provided with. \n",
    "\n",
    "Your first task in this practical to debug the code to figure out why the code does not work. The code is deliberately designed to give the following series of error (in order). Therefore, you will need to fix each bug in turn to reveal the next error message.\n",
    "\n",
    "__First error message:__"
   ]
  },
  {
   "cell_type": "markdown",
   "id": "6d307b6e",
   "metadata": {},
   "source": [
    "![error code 1](error_code1.png \"First error message\")"
   ]
  },
  {
   "cell_type": "markdown",
   "id": "07c58b5c",
   "metadata": {},
   "source": [
    "__Second error message:__\n",
    "\n",
    "![error message 2](error_code2.png \"Second error message\")"
   ]
  },
  {
   "cell_type": "markdown",
   "id": "a1e75a2c",
   "metadata": {},
   "source": [
    "__Third error message:__\n",
    "![Third error to debug](error_code3.png)"
   ]
  },
  {
   "cell_type": "markdown",
   "id": "7aadb25b",
   "metadata": {},
   "source": [
    "__Fourth error message:__\n",
    "![Error 4](error_code4.png)"
   ]
  },
  {
   "cell_type": "markdown",
   "id": "d4798ca9",
   "metadata": {},
   "source": [
    "You will then be able to execute the code properly - you will know because the output will be identical to below:\n",
    "\n",
    "![code debugged](working_code_output.png)"
   ]
  },
  {
   "cell_type": "markdown",
   "id": "5e9f3f73",
   "metadata": {},
   "source": [
    "__Exercise break__\n",
    "How would you go about changing the code in the first place to ensure that these bugs did not happen? Think about what you know about molecular biology - this is knowledge that can be used to make your code better using defensive programming."
   ]
  },
  {
   "cell_type": "markdown",
   "id": "0c6e6d02",
   "metadata": {},
   "source": [
    "# Defensive programming\n",
    "\n",
    "One way to implement defensive programming is to write out pseudocode before even touching a keyboard - this is a very good habit to get into, particularly for complex algoirithms.\n",
    "\n",
    "The other thing we can do is to put checks inside the code, like the examples in the lecture, to either create informative error messages or to fail nicely. I will use the function below to illustrate this.\n",
    "\n",
    "![defensive programming function](defensive_programming_pic.png)"
   ]
  },
  {
   "cell_type": "code",
   "execution_count": 1,
   "id": "9c3e73d4",
   "metadata": {},
   "outputs": [],
   "source": [
    "def transcribeDNA(seq):\n",
    "    '''    \n",
    "    Transcribe a DNA sequence into an mRNA sequence\n",
    "    '''\n",
    "    \n",
    "    trans_dict = {\"A\": \"U\", \"C\": \"G\", \"T\": \"A\", \"G\":\"C\"}\n",
    "    dna_seq = \"\".join([trans_dict[x] for x in seq])\n",
    "    \n",
    "    return(dna_seq[::-1])\n",
    "\n",
    "\n",
    "def translateSeq(seq, codons, frame=1):\n",
    "    '''\n",
    "    translate an mRNA sequence into a peptide\n",
    "    st is the starting nt index, i.e. which reading frame: 0, 1 or 2\n",
    "    '''\n",
    "    \n",
    "    peptide = \"\"\n",
    "    if frame == 1:\n",
    "        fseq = seq\n",
    "    elif frame == 2:\n",
    "        fseq = seq[1:-2]\n",
    "    elif frame == 3:\n",
    "        fseq = seq[2:-1]\n",
    "    \n",
    "    for idx in range(0, len(fseq), 3):\n",
    "        codon = fseq[idx: idx+3]\n",
    "        aa = codons[codon]\n",
    "        if idx != len(fseq) - 3:\n",
    "            if aa == \"*\":\n",
    "                return(peptide + aa)\n",
    "            else:\n",
    "                peptide += aa\n",
    "        else:\n",
    "            peptide += aa\n",
    "    \n",
    "    return(peptide)\n",
    "\n",
    "\n",
    "def findLongestFrame(seq, codons):\n",
    "    '''\n",
    "    Find the longest reading frame.\n",
    "    seq: string - an mRNA sequence containing A, U, C, G\n",
    "    codons: dict - a dictionary that maps 3 nucleotide codons to amino acids\n",
    "    \n",
    "    Return:\n",
    "    int - the position of the longest reading frame for the input sequence.    \n",
    "    '''\n",
    "    \n",
    "    if type(seq) != str:\n",
    "        raise AttributeError(\"{} is an incorrect data format - must be str\".format(type(seq)))\n",
    "        \n",
    "    # check that seq only contains A, U, C and G\n",
    "    unique_nt = set(seq) # get the base characters of seq\n",
    "    nt_int = unique_nt.intersection(set(['A', 'U', 'C', 'G'])) # check for overlap with expected nts    \n",
    "    \n",
    "    if len(nt_int) < 4:\n",
    "        raise AttributeError(\"seq contains non-nucleotide characters: {}\".format(\",\".join(list(unique_nt))))\n",
    "    elif len(nt_int) > 4:\n",
    "        add_nt = unique_nt.difference(set(['A', 'U', 'C', 'G']))\n",
    "        raise AttributeError(\"seq contains non-nucleotide characters: {}\".format(\",\".joint(list(add_nt))))\n",
    "    \n",
    "    \n",
    "    # generate all reading frames - select the longest\n",
    "    aa1 = translateSeq(seq, codons)\n",
    "    aa2 = translateSeq(seq[1:-2], codons)\n",
    "    aa3 = translateSeq(seq[2:-1], codons)\n",
    "    \n",
    "    if len(aa1) >= len(aa2) and len(aa1) >= len(aa2):\n",
    "        return(1)\n",
    "    elif len(aa2) >= len(aa1) and len(aa2) >= len(aa3):\n",
    "        return(2)\n",
    "    elif len(aa3) >= len(aa1) and len(aa3) >= len(aa2):\n",
    "        return(3)"
   ]
  },
  {
   "cell_type": "code",
   "execution_count": 3,
   "id": "0f26f13a",
   "metadata": {},
   "outputs": [
    {
     "ename": "KeyError",
     "evalue": "'G'",
     "output_type": "error",
     "traceback": [
      "\u001b[0;31m---------------------------------------------------------------------------\u001b[0m",
      "\u001b[0;31mKeyError\u001b[0m                                  Traceback (most recent call last)",
      "Cell \u001b[0;32mIn[3], line 13\u001b[0m\n\u001b[1;32m      3\u001b[0m codon_dict \u001b[38;5;241m=\u001b[39m {\u001b[38;5;124m\"\u001b[39m\u001b[38;5;124mUUU\u001b[39m\u001b[38;5;124m\"\u001b[39m: \u001b[38;5;124m\"\u001b[39m\u001b[38;5;124mF\u001b[39m\u001b[38;5;124m\"\u001b[39m, \u001b[38;5;124m\"\u001b[39m\u001b[38;5;124mUUC\u001b[39m\u001b[38;5;124m\"\u001b[39m: \u001b[38;5;124m\"\u001b[39m\u001b[38;5;124mF\u001b[39m\u001b[38;5;124m\"\u001b[39m, \u001b[38;5;124m\"\u001b[39m\u001b[38;5;124mUUA\u001b[39m\u001b[38;5;124m\"\u001b[39m: \u001b[38;5;124m\"\u001b[39m\u001b[38;5;124mL\u001b[39m\u001b[38;5;124m\"\u001b[39m, \u001b[38;5;124m\"\u001b[39m\u001b[38;5;124mUUG\u001b[39m\u001b[38;5;124m\"\u001b[39m: \u001b[38;5;124m\"\u001b[39m\u001b[38;5;124mL\u001b[39m\u001b[38;5;124m\"\u001b[39m, \u001b[38;5;124m\"\u001b[39m\u001b[38;5;124mUCU\u001b[39m\u001b[38;5;124m\"\u001b[39m: \u001b[38;5;124m\"\u001b[39m\u001b[38;5;124mS\u001b[39m\u001b[38;5;124m\"\u001b[39m, \u001b[38;5;124m\"\u001b[39m\u001b[38;5;124mUCC\u001b[39m\u001b[38;5;124m\"\u001b[39m: \u001b[38;5;124m\"\u001b[39m\u001b[38;5;124mS\u001b[39m\u001b[38;5;124m\"\u001b[39m, \u001b[38;5;124m\"\u001b[39m\u001b[38;5;124mUCA\u001b[39m\u001b[38;5;124m\"\u001b[39m: \u001b[38;5;124m\"\u001b[39m\u001b[38;5;124mS\u001b[39m\u001b[38;5;124m\"\u001b[39m, \u001b[38;5;124m\"\u001b[39m\u001b[38;5;124mUCG\u001b[39m\u001b[38;5;124m\"\u001b[39m: \u001b[38;5;124m\"\u001b[39m\u001b[38;5;124mS\u001b[39m\u001b[38;5;124m\"\u001b[39m,\n\u001b[1;32m      4\u001b[0m                   \u001b[38;5;124m\"\u001b[39m\u001b[38;5;124mUAU\u001b[39m\u001b[38;5;124m\"\u001b[39m: \u001b[38;5;124m\"\u001b[39m\u001b[38;5;124mY\u001b[39m\u001b[38;5;124m\"\u001b[39m, \u001b[38;5;124m\"\u001b[39m\u001b[38;5;124mUAC\u001b[39m\u001b[38;5;124m\"\u001b[39m: \u001b[38;5;124m\"\u001b[39m\u001b[38;5;124mY\u001b[39m\u001b[38;5;124m\"\u001b[39m, \u001b[38;5;124m\"\u001b[39m\u001b[38;5;124mUAA\u001b[39m\u001b[38;5;124m\"\u001b[39m: \u001b[38;5;124m\"\u001b[39m\u001b[38;5;124m*\u001b[39m\u001b[38;5;124m\"\u001b[39m, \u001b[38;5;124m\"\u001b[39m\u001b[38;5;124mUAG\u001b[39m\u001b[38;5;124m\"\u001b[39m: \u001b[38;5;124m\"\u001b[39m\u001b[38;5;124m*\u001b[39m\u001b[38;5;124m\"\u001b[39m, \u001b[38;5;124m\"\u001b[39m\u001b[38;5;124mUGU\u001b[39m\u001b[38;5;124m\"\u001b[39m: \u001b[38;5;124m\"\u001b[39m\u001b[38;5;124mC\u001b[39m\u001b[38;5;124m\"\u001b[39m, \u001b[38;5;124m\"\u001b[39m\u001b[38;5;124mUGC\u001b[39m\u001b[38;5;124m\"\u001b[39m: \u001b[38;5;124m\"\u001b[39m\u001b[38;5;124mC\u001b[39m\u001b[38;5;124m\"\u001b[39m, \u001b[38;5;124m\"\u001b[39m\u001b[38;5;124mUGA\u001b[39m\u001b[38;5;124m\"\u001b[39m: \u001b[38;5;124m\"\u001b[39m\u001b[38;5;124m*\u001b[39m\u001b[38;5;124m\"\u001b[39m, \u001b[38;5;124m\"\u001b[39m\u001b[38;5;124mUGG\u001b[39m\u001b[38;5;124m\"\u001b[39m: \u001b[38;5;124m\"\u001b[39m\u001b[38;5;124mW\u001b[39m\u001b[38;5;124m\"\u001b[39m,\n\u001b[1;32m      5\u001b[0m                   \u001b[38;5;124m\"\u001b[39m\u001b[38;5;124mCUU\u001b[39m\u001b[38;5;124m\"\u001b[39m: \u001b[38;5;124m\"\u001b[39m\u001b[38;5;124mL\u001b[39m\u001b[38;5;124m\"\u001b[39m, \u001b[38;5;124m\"\u001b[39m\u001b[38;5;124mCUC\u001b[39m\u001b[38;5;124m\"\u001b[39m: \u001b[38;5;124m\"\u001b[39m\u001b[38;5;124mL\u001b[39m\u001b[38;5;124m\"\u001b[39m, \u001b[38;5;124m\"\u001b[39m\u001b[38;5;124mCUA\u001b[39m\u001b[38;5;124m\"\u001b[39m: \u001b[38;5;124m\"\u001b[39m\u001b[38;5;124mL\u001b[39m\u001b[38;5;124m\"\u001b[39m, \u001b[38;5;124m\"\u001b[39m\u001b[38;5;124mCUG\u001b[39m\u001b[38;5;124m\"\u001b[39m: \u001b[38;5;124m\"\u001b[39m\u001b[38;5;124mL\u001b[39m\u001b[38;5;124m\"\u001b[39m, \u001b[38;5;124m\"\u001b[39m\u001b[38;5;124mCCU\u001b[39m\u001b[38;5;124m\"\u001b[39m: \u001b[38;5;124m\"\u001b[39m\u001b[38;5;124mP\u001b[39m\u001b[38;5;124m\"\u001b[39m, \u001b[38;5;124m\"\u001b[39m\u001b[38;5;124mCCC\u001b[39m\u001b[38;5;124m\"\u001b[39m: \u001b[38;5;124m\"\u001b[39m\u001b[38;5;124mP\u001b[39m\u001b[38;5;124m\"\u001b[39m, \u001b[38;5;124m\"\u001b[39m\u001b[38;5;124mCCA\u001b[39m\u001b[38;5;124m\"\u001b[39m: \u001b[38;5;124m\"\u001b[39m\u001b[38;5;124mP\u001b[39m\u001b[38;5;124m\"\u001b[39m, \u001b[38;5;124m\"\u001b[39m\u001b[38;5;124mCCG\u001b[39m\u001b[38;5;124m\"\u001b[39m: \u001b[38;5;124m\"\u001b[39m\u001b[38;5;124mP\u001b[39m\u001b[38;5;124m\"\u001b[39m,\n\u001b[0;32m   (...)\u001b[0m\n\u001b[1;32m      9\u001b[0m                   \u001b[38;5;124m\"\u001b[39m\u001b[38;5;124mGUU\u001b[39m\u001b[38;5;124m\"\u001b[39m: \u001b[38;5;124m\"\u001b[39m\u001b[38;5;124mV\u001b[39m\u001b[38;5;124m\"\u001b[39m, \u001b[38;5;124m\"\u001b[39m\u001b[38;5;124mGUC\u001b[39m\u001b[38;5;124m\"\u001b[39m: \u001b[38;5;124m\"\u001b[39m\u001b[38;5;124mV\u001b[39m\u001b[38;5;124m\"\u001b[39m, \u001b[38;5;124m\"\u001b[39m\u001b[38;5;124mGUA\u001b[39m\u001b[38;5;124m\"\u001b[39m: \u001b[38;5;124m\"\u001b[39m\u001b[38;5;124mV\u001b[39m\u001b[38;5;124m\"\u001b[39m, \u001b[38;5;124m\"\u001b[39m\u001b[38;5;124mGUG\u001b[39m\u001b[38;5;124m\"\u001b[39m: \u001b[38;5;124m\"\u001b[39m\u001b[38;5;124mV\u001b[39m\u001b[38;5;124m\"\u001b[39m, \u001b[38;5;124m\"\u001b[39m\u001b[38;5;124mGCU\u001b[39m\u001b[38;5;124m\"\u001b[39m: \u001b[38;5;124m\"\u001b[39m\u001b[38;5;124mA\u001b[39m\u001b[38;5;124m\"\u001b[39m, \u001b[38;5;124m\"\u001b[39m\u001b[38;5;124mGCC\u001b[39m\u001b[38;5;124m\"\u001b[39m: \u001b[38;5;124m\"\u001b[39m\u001b[38;5;124mA\u001b[39m\u001b[38;5;124m\"\u001b[39m, \u001b[38;5;124m\"\u001b[39m\u001b[38;5;124mGCA\u001b[39m\u001b[38;5;124m\"\u001b[39m: \u001b[38;5;124m\"\u001b[39m\u001b[38;5;124mA\u001b[39m\u001b[38;5;124m\"\u001b[39m, \u001b[38;5;124m\"\u001b[39m\u001b[38;5;124mGCG\u001b[39m\u001b[38;5;124m\"\u001b[39m: \u001b[38;5;124m\"\u001b[39m\u001b[38;5;124mA\u001b[39m\u001b[38;5;124m\"\u001b[39m,\n\u001b[1;32m     10\u001b[0m                   \u001b[38;5;124m\"\u001b[39m\u001b[38;5;124mGAU\u001b[39m\u001b[38;5;124m\"\u001b[39m: \u001b[38;5;124m\"\u001b[39m\u001b[38;5;124mD\u001b[39m\u001b[38;5;124m\"\u001b[39m, \u001b[38;5;124m\"\u001b[39m\u001b[38;5;124mGAC\u001b[39m\u001b[38;5;124m\"\u001b[39m: \u001b[38;5;124m\"\u001b[39m\u001b[38;5;124mD\u001b[39m\u001b[38;5;124m\"\u001b[39m, \u001b[38;5;124m\"\u001b[39m\u001b[38;5;124mGAA\u001b[39m\u001b[38;5;124m\"\u001b[39m: \u001b[38;5;124m\"\u001b[39m\u001b[38;5;124mE\u001b[39m\u001b[38;5;124m\"\u001b[39m, \u001b[38;5;124m\"\u001b[39m\u001b[38;5;124mGAG\u001b[39m\u001b[38;5;124m\"\u001b[39m: \u001b[38;5;124m\"\u001b[39m\u001b[38;5;124mE\u001b[39m\u001b[38;5;124m\"\u001b[39m, \u001b[38;5;124m\"\u001b[39m\u001b[38;5;124mGGU\u001b[39m\u001b[38;5;124m\"\u001b[39m: \u001b[38;5;124m\"\u001b[39m\u001b[38;5;124mG\u001b[39m\u001b[38;5;124m\"\u001b[39m, \u001b[38;5;124m\"\u001b[39m\u001b[38;5;124mGGC\u001b[39m\u001b[38;5;124m\"\u001b[39m: \u001b[38;5;124m\"\u001b[39m\u001b[38;5;124mG\u001b[39m\u001b[38;5;124m\"\u001b[39m, \u001b[38;5;124m\"\u001b[39m\u001b[38;5;124mGGA\u001b[39m\u001b[38;5;124m\"\u001b[39m: \u001b[38;5;124m\"\u001b[39m\u001b[38;5;124mG\u001b[39m\u001b[38;5;124m\"\u001b[39m, \u001b[38;5;124m\"\u001b[39m\u001b[38;5;124mGGG\u001b[39m\u001b[38;5;124m\"\u001b[39m: \u001b[38;5;124m\"\u001b[39m\u001b[38;5;124mG\u001b[39m\u001b[38;5;124m\"\u001b[39m}\n\u001b[1;32m     12\u001b[0m rna \u001b[38;5;241m=\u001b[39m transcribeDNA(dna)\n\u001b[0;32m---> 13\u001b[0m findLongestFrame(\u001b[38;5;124m\"\u001b[39m\u001b[38;5;124mAUCG\u001b[39m\u001b[38;5;124m\"\u001b[39m, codons\u001b[38;5;241m=\u001b[39mcodon_dict)\n",
      "Cell \u001b[0;32mIn[1], line 65\u001b[0m, in \u001b[0;36mfindLongestFrame\u001b[0;34m(seq, codons)\u001b[0m\n\u001b[1;32m     61\u001b[0m     \u001b[38;5;28;01mraise\u001b[39;00m \u001b[38;5;167;01mAttributeError\u001b[39;00m(\u001b[38;5;124m\"\u001b[39m\u001b[38;5;124mseq contains non-nucleotide characters: \u001b[39m\u001b[38;5;132;01m{}\u001b[39;00m\u001b[38;5;124m\"\u001b[39m\u001b[38;5;241m.\u001b[39mformat(\u001b[38;5;124m\"\u001b[39m\u001b[38;5;124m,\u001b[39m\u001b[38;5;124m\"\u001b[39m\u001b[38;5;241m.\u001b[39mjoint(\u001b[38;5;28mlist\u001b[39m(add_nt))))\n\u001b[1;32m     64\u001b[0m \u001b[38;5;66;03m# generate all reading frames - select the longest\u001b[39;00m\n\u001b[0;32m---> 65\u001b[0m aa1 \u001b[38;5;241m=\u001b[39m translateSeq(seq, codons)\n\u001b[1;32m     66\u001b[0m aa2 \u001b[38;5;241m=\u001b[39m translateSeq(seq[\u001b[38;5;241m1\u001b[39m:\u001b[38;5;241m-\u001b[39m\u001b[38;5;241m2\u001b[39m], codons)\n\u001b[1;32m     67\u001b[0m aa3 \u001b[38;5;241m=\u001b[39m translateSeq(seq[\u001b[38;5;241m2\u001b[39m:\u001b[38;5;241m-\u001b[39m\u001b[38;5;241m1\u001b[39m], codons)\n",
      "Cell \u001b[0;32mIn[1], line 28\u001b[0m, in \u001b[0;36mtranslateSeq\u001b[0;34m(seq, codons, frame)\u001b[0m\n\u001b[1;32m     26\u001b[0m \u001b[38;5;28;01mfor\u001b[39;00m idx \u001b[38;5;129;01min\u001b[39;00m \u001b[38;5;28mrange\u001b[39m(\u001b[38;5;241m0\u001b[39m, \u001b[38;5;28mlen\u001b[39m(fseq), \u001b[38;5;241m3\u001b[39m):\n\u001b[1;32m     27\u001b[0m     codon \u001b[38;5;241m=\u001b[39m fseq[idx: idx\u001b[38;5;241m+\u001b[39m\u001b[38;5;241m3\u001b[39m]\n\u001b[0;32m---> 28\u001b[0m     aa \u001b[38;5;241m=\u001b[39m codons[codon]\n\u001b[1;32m     29\u001b[0m     \u001b[38;5;28;01mif\u001b[39;00m idx \u001b[38;5;241m!=\u001b[39m \u001b[38;5;28mlen\u001b[39m(fseq) \u001b[38;5;241m-\u001b[39m \u001b[38;5;241m3\u001b[39m:\n\u001b[1;32m     30\u001b[0m         \u001b[38;5;28;01mif\u001b[39;00m aa \u001b[38;5;241m==\u001b[39m \u001b[38;5;124m\"\u001b[39m\u001b[38;5;124m*\u001b[39m\u001b[38;5;124m\"\u001b[39m:\n",
      "\u001b[0;31mKeyError\u001b[0m: 'G'"
     ]
    }
   ],
   "source": [
    "dna = \"ATGATCCACGATTCCAGGCTTCCCATTCAAAATTGCCGCCATCCAAAGGCTGACTGGGGACGTGTAAGGAGCGTTCGAGAATATACAAAGTCAGATCGAGACACGCCGGTACATTCTATCTGGAACGGGCCGTCGCCGAGACCTTCGCTGTGCTTCTTTAGTAGTTCCTCAATGCCGAATGGGGCATCGGGCAGGTGTAACAACAAGCTTCGTATGAATGTATTTCTAAGTCTGGACTATTCCGTATATGCTGCTTTATTAGTGCGACTATGGCGAGATCATAGGCAATCGTGTCCCATGGGTCAGGACGCGGTAAGGAGTACAACCAGCATCAACTGA\"\n",
    "\n",
    "codon_dict = {\"UUU\": \"F\", \"UUC\": \"F\", \"UUA\": \"L\", \"UUG\": \"L\", \"UCU\": \"S\", \"UCC\": \"S\", \"UCA\": \"S\", \"UCG\": \"S\",\n",
    "                  \"UAU\": \"Y\", \"UAC\": \"Y\", \"UAA\": \"*\", \"UAG\": \"*\", \"UGU\": \"C\", \"UGC\": \"C\", \"UGA\": \"*\", \"UGG\": \"W\",\n",
    "                  \"CUU\": \"L\", \"CUC\": \"L\", \"CUA\": \"L\", \"CUG\": \"L\", \"CCU\": \"P\", \"CCC\": \"P\", \"CCA\": \"P\", \"CCG\": \"P\",\n",
    "                  \"CAU\": \"H\", \"CAC\": \"H\", \"CAA\": \"Q\", \"CAG\": \"Q\", \"CGU\": \"R\", \"CGC\": \"R\", \"CGA\": \"R\", \"CGG\": \"R\",\n",
    "                  \"AUU\": \"I\", \"AUC\": \"I\", \"AUA\": \"I\", \"AUG\": \"M\", \"ACU\": \"T\", \"ACC\": \"T\", \"ACA\": \"T\", \"ACG\": \"T\",\n",
    "                  \"AAU\": \"N\", \"AAC\": \"N\", \"AAA\": \"K\", \"AAG\": \"K\", \"AGU\": \"S\", \"AGC\": \"S\", \"AGA\": \"R\", \"AGG\": \"R\",\n",
    "                  \"GUU\": \"V\", \"GUC\": \"V\", \"GUA\": \"V\", \"GUG\": \"V\", \"GCU\": \"A\", \"GCC\": \"A\", \"GCA\": \"A\", \"GCG\": \"A\",\n",
    "                  \"GAU\": \"D\", \"GAC\": \"D\", \"GAA\": \"E\", \"GAG\": \"E\", \"GGU\": \"G\", \"GGC\": \"G\", \"GGA\": \"G\", \"GGG\": \"G\"}\n",
    "\n",
    "rna = transcribeDNA(dna)\n",
    "findLongestFrame(\"AUCG\", codons=codon_dict)"
   ]
  },
  {
   "cell_type": "markdown",
   "id": "b16cf874",
   "metadata": {},
   "source": [
    "__Exercise__\n",
    "The current function only works with an RNA sequence of specific lengths - can you figure why, and then come up with some defensive programming to protect against the wrong length sequences from causing this error message?"
   ]
  },
  {
   "cell_type": "markdown",
   "id": "3c393141",
   "metadata": {},
   "source": [
    "Go back to the anaconda-navigator and select the JupyterLab app:\n",
    "\n",
    "![jupyer lab app](jupyterlab.png)"
   ]
  },
  {
   "cell_type": "markdown",
   "id": "2da4dbee",
   "metadata": {},
   "source": [
    "This will open up the JupyterLab environment, which allows you to have multiple tabs open, including code files, notebooks and terminal sessions. The latter is a command-line interface to your computer, and is a natural and powerful way to work on a computer, but can take some practise if you are not familiar with this.\n",
    "\n",
    "We are going to use the terminal to use `git` for version control. The first step is to go to your GitHub page and create a new repository:\n",
    "\n",
    "![new repo](new_repo.png)"
   ]
  },
  {
   "cell_type": "markdown",
   "id": "ff0ca15e",
   "metadata": {},
   "source": [
    "### Setting up a repository\n",
    "\n",
    "Go ahead and fill in the details with the name and description for this workshop. This will create your repository similar to below:\n",
    "\n",
    "![a repo](a_repo.png)\n",
    "\n",
    "\n",
    "Go and click on the blue `<> Code` box to get the dropdown menu and copy the URL to your clipboard.\n",
    "\n",
    "\n",
    "![cloning a repo](clone_repo.png)\n",
    "\n",
    "The next step is to go back to your new JupyterLab open a new `Terminal` session inside:\n",
    "\n",
    "![open terminal](jupyterlab_app.png)\n",
    "\n",
    "I strongly recommend opening this in your Home drive so that you can keep track of this in the future."
   ]
  },
  {
   "cell_type": "markdown",
   "id": "d092c9b0",
   "metadata": {},
   "source": [
    "### Cloning a repository\n",
    "\n",
    "Now type the following, and paste the URL that you copied from GitHub:\n",
    "\n",
    "`git clone <paste URL>` (the URL will be specific to your repository)\n",
    "\n",
    "![clone repo](git_clone.png)\n",
    "\n",
    "Hit Enter and this will clone your repository that you made. This doesn't contain anything, but it sets up the version control on your computer in the directory where you Terminal session is open."
   ]
  },
  {
   "cell_type": "markdown",
   "id": "a499e4df",
   "metadata": {},
   "source": [
    "### Using git\n",
    "\n",
    "While learning how to use git I strongly recommend keeping a git cheatsheet close by: https://training.github.com/downloads/github-git-cheat-sheet/. The series of commands can get confusing but the main ones you need to know are:\n",
    "\n",
    "```\n",
    "git add <file paths here>\n",
    "git commit -m 'useful message here'\n",
    "\n",
    "git pull\n",
    "git push\n",
    "```\n",
    "\n",
    "These commands are executed in order whenever you want to log your code changes on a repository. \n",
    "\n",
    "`git add` \"stages\" your changes and tells git that you are going to log the changes in the specific set of files on the `git add` command.\n",
    "\n",
    "`git commit -m 'message'` commits the changes to _your local repository_ - this means you can add and change things locally without affecting what is happening to your central repository on GitHub.\n",
    "\n",
    "`git pull` retrieves the latest version of the repository from GitHub. You will mostly be the only one working on these repos, but on many software projects there will be multiple team members making code contributions, so this is a good habit to get into.\n",
    "\n",
    "`git push` this sends your changes to the central repository and logs them.\n",
    "\n",
    "This process is also very useful if you need to switch machines and retrieve your code from the central GitHub repository - you can just pull in the changes you made elsewhere and keep working seamlessly.\n",
    "\n",
    "Now try this with your repository and the Python code file - but add in the new defensive programming features that you added.\n",
    "\n",
    "Once you've done that you will see that your GitHub page now contains the code file that you just added.\n",
    "\n",
    "![added to repo](populated_repo.png)\n",
    "\n",
    "__Exercise break__\n",
    "Spend a bit of time familiarsing yourself with git and GitHub - try adding some other code files. BEWARE - do not add large files (megabytes) as they can grow very quickly and block you from logging changes or new files. Therefore, the best practise is to add specific files, and the mantra is to submit little and often."
   ]
  },
  {
   "cell_type": "markdown",
   "id": "abe1f358",
   "metadata": {},
   "source": [
    "__Final exercise__\n",
    "\n",
    "Send me your GitHub ID, if you haven't already. I will add you to the class GitHub team from where you can create your own repository for the final assignment: https://github.com/BT5511-BiocomputationProjects-2024. Your repository name should include your name and the year, i.e. 2024. I will make sure that you only have read/write access to your own code and not anyone elses."
   ]
  },
  {
   "cell_type": "code",
   "execution_count": null,
   "id": "f71ce81d-df55-4f92-a998-225a8f256112",
   "metadata": {},
   "outputs": [],
   "source": []
  }
 ],
 "metadata": {
  "kernelspec": {
   "display_name": "Python [conda env:base] *",
   "language": "python",
   "name": "conda-base-py"
  },
  "language_info": {
   "codemirror_mode": {
    "name": "ipython",
    "version": 3
   },
   "file_extension": ".py",
   "mimetype": "text/x-python",
   "name": "python",
   "nbconvert_exporter": "python",
   "pygments_lexer": "ipython3",
   "version": "3.12.7"
  }
 },
 "nbformat": 4,
 "nbformat_minor": 5
}
